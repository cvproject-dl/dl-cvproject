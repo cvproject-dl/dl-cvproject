{
  "nbformat": 4,
  "nbformat_minor": 0,
  "metadata": {
    "colab": {
      "name": "car_images_filter.ipynb",
      "provenance": []
    },
    "kernelspec": {
      "display_name": "Python 3",
      "name": "python3"
    }
  },
  "cells": [
    {
      "cell_type": "code",
      "metadata": {
        "id": "Fe0rGhphSHn3"
      },
      "source": [
        "%cd /content/gdrive/My Drive/"
      ],
      "execution_count": null,
      "outputs": []
    },
    {
      "cell_type": "code",
      "metadata": {
        "id": "4-gx-b8rSJd4"
      },
      "source": [
        "import os\n",
        "import shutil"
      ],
      "execution_count": null,
      "outputs": []
    },
    {
      "cell_type": "code",
      "metadata": {
        "id": "0X4Pjwd9SKHL"
      },
      "source": [
        "indcar = '/content/gdrive/My Drive/Indian_Car_Data/'\n"
      ],
      "execution_count": null,
      "outputs": []
    },
    {
      "cell_type": "code",
      "metadata": {
        "id": "42WudcjaaqgM",
        "outputId": "7ff39371-83b0-47b2-f523-2a0a08738c71",
        "colab": {
          "base_uri": "https://localhost:8080/"
        }
      },
      "source": [
        "len(os.listdir(indcar))"
      ],
      "execution_count": null,
      "outputs": [
        {
          "output_type": "execute_result",
          "data": {
            "text/plain": [
              "276"
            ]
          },
          "metadata": {
            "tags": []
          },
          "execution_count": 22
        }
      ]
    },
    {
      "cell_type": "code",
      "metadata": {
        "id": "e17DysZJSdMi"
      },
      "source": [
        "for x in os.listdir(indcar):\n",
        "  if len(os.listdir(indcar+x)) < 80:\n",
        "    shutil.rmtree(indcar+x)\n",
        "\n"
      ],
      "execution_count": null,
      "outputs": []
    },
    {
      "cell_type": "code",
      "metadata": {
        "id": "AF80xipuTBdq",
        "outputId": "7be9fa05-64fd-40b7-bf67-2f3291376d62",
        "colab": {
          "base_uri": "https://localhost:8080/"
        }
      },
      "source": [
        "len(os.listdir(indcar))"
      ],
      "execution_count": null,
      "outputs": [
        {
          "output_type": "execute_result",
          "data": {
            "text/plain": [
              "120"
            ]
          },
          "metadata": {
            "tags": []
          },
          "execution_count": 24
        }
      ]
    },
    {
      "cell_type": "code",
      "metadata": {
        "id": "ERpJscQqb4ub"
      },
      "source": [
        "test = '/content/gdrive/My Drive/Indcars/test'\n",
        "train = '/content/gdrive/My Drive/Indcars/train'"
      ],
      "execution_count": null,
      "outputs": []
    },
    {
      "cell_type": "code",
      "metadata": {
        "id": "aYjaBXk4eE9n"
      },
      "source": [
        "os.mkdir(train)"
      ],
      "execution_count": null,
      "outputs": []
    },
    {
      "cell_type": "code",
      "metadata": {
        "id": "G2PMbMItdOS6"
      },
      "source": [
        "indcars = '/content/gdrive/My Drive/Indian_Car_Data/'"
      ],
      "execution_count": null,
      "outputs": []
    },
    {
      "cell_type": "code",
      "metadata": {
        "id": "NjH_cW_qa33n"
      },
      "source": [
        "import random"
      ],
      "execution_count": null,
      "outputs": []
    },
    {
      "cell_type": "code",
      "metadata": {
        "id": "DL52kj5Za-Ov"
      },
      "source": [
        "for car in os.listdir(indcars):\n",
        "  c = os.listdir(indcars+car)\n",
        "  random.shuffle(c)\n",
        "  if car not in os.listdir(train):\n",
        "      os.mkdir(train+\"/\"+car)\n",
        "  if car not in os.listdir(test):\n",
        "      os.mkdir(test+\"/\"+car)\n",
        "  if len(c) >= 80 and len(c) < 100:\n",
        "    for fl in c[0:50]:\n",
        "      shutil.copy(indcars+car+\"/\"+fl,train+\"/\"+car)\n",
        "    for fl in c[50:]:\n",
        "      shutil.copy(indcars+car+\"/\"+fl,test+'/'+car)\n",
        "  if len(c) >= 100:\n",
        "    for fl in c[0:60]:\n",
        "      shutil.copy(indcars+car+\"/\"+fl,train+\"/\"+car)\n",
        "    for fl in c[60:100]:\n",
        "      shutil.copy(indcars+car+\"/\"+fl,test+'/'+car)\n",
        "    \n",
        "\n",
        "\n",
        "                                            "
      ],
      "execution_count": null,
      "outputs": []
    },
    {
      "cell_type": "code",
      "metadata": {
        "id": "EsM5LCJndKIC"
      },
      "source": [
        "%rm -r '/content/gdrive/My Drive/Indcars/train'"
      ],
      "execution_count": null,
      "outputs": []
    },
    {
      "cell_type": "code",
      "metadata": {
        "id": "bub10lN5d-VJ"
      },
      "source": [
        "import json\n",
        "car_to_idx = {}\n",
        "car_to_idx['index'] = {}\n",
        "kkk = 0\n",
        "total = 0\n",
        "test_total = 0\n",
        "train_total = 0\n",
        "for carz in os.listdir(test):\n",
        "  car_to_idx['index'][carz] = kkk\n",
        "  kkk += 1\n",
        "  for img in os.listdir(test+'/'+carz):\n",
        "    total += 1\n",
        "    test_total += 1\n",
        "\n",
        "for carz in os.listdir(train):\n",
        "  for img in os.listdir(train+'/'+carz):\n",
        "    total += 1\n",
        "    train_total += 1\n",
        "\n",
        "car_to_idx['total_cars'] = total\n",
        "car_to_idx['total_train'] = train_total\n",
        "car_to_idx['total_test'] = test_total\n",
        "\n",
        "with open('/content/gdrive/My Drive/Indcars/car_to_idx.json', 'w') as outfile:\n",
        "    json.dump(car_to_idx, outfile)\n",
        "\n",
        "\n"
      ],
      "execution_count": null,
      "outputs": []
    },
    {
      "cell_type": "code",
      "metadata": {
        "id": "En-BVKmR0EFe",
        "outputId": "77378e06-2c85-41f3-d686-d128913758b3",
        "colab": {
          "base_uri": "https://localhost:8080/"
        }
      },
      "source": [
        "print(car_to_idx['total_cars'])\n",
        "print(car_to_idx['total_train'])\n",
        "print(car_to_idx['total_test'])"
      ],
      "execution_count": null,
      "outputs": [
        {
          "output_type": "stream",
          "text": [
            "11777\n",
            "7072\n",
            "4705\n"
          ],
          "name": "stdout"
        }
      ]
    }
  ]
}