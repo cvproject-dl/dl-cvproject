{
  "nbformat": 4,
  "nbformat_minor": 0,
  "metadata": {
    "colab": {
      "name": "2_Data.ipynb",
      "provenance": [],
      "toc_visible": true
    },
    "kernelspec": {
      "name": "python3",
      "display_name": "Python 3"
    }
  },
  "cells": [
    {
      "cell_type": "markdown",
      "metadata": {
        "id": "pVoYbL2lE4zJ"
      },
      "source": [
        "# Data"
      ]
    },
    {
      "cell_type": "markdown",
      "metadata": {
        "id": "0N2sDQm7FQbt"
      },
      "source": [
        "\n",
        "\n",
        "*   Importing pytorch , pytorch from computer vision (torchvision has computer vision related data)\n",
        "*   Import transforms and in-built datasets from pytorch\n",
        "\n"
      ]
    },
    {
      "cell_type": "code",
      "metadata": {
        "id": "hEXgr0sWEhvW"
      },
      "source": [
        "import torch\n",
        "import torchvision\n",
        "from torchvision import transforms , datasets"
      ],
      "execution_count": null,
      "outputs": []
    },
    {
      "cell_type": "markdown",
      "metadata": {
        "id": "qlR_U6fCGIQo"
      },
      "source": [
        "### Training and Testing set"
      ]
    },
    {
      "cell_type": "markdown",
      "metadata": {
        "id": "_06VwXNLGw5D"
      },
      "source": [
        "\n",
        "\n",
        "*   Downloading a dataset from pytorch, it converts the dataset items to Tensors (It is not in tensor by default)\n",
        "\n",
        "\n",
        "*   For training set we use train = True.\n",
        "\n",
        "* MNIST is a handwritten numbers dataset (28*28 images)\n",
        "\n",
        "\n",
        "\n"
      ]
    },
    {
      "cell_type": "code",
      "metadata": {
        "id": "6_s1IdLMFINx"
      },
      "source": [
        "train = datasets.MNIST(\"\",train = True,download = True, transform= transforms.Compose([transforms.ToTensor()]))\n",
        "test = datasets.MNIST(\"\",train = False,download = True, transform= transforms.Compose([transforms.ToTensor()]))"
      ],
      "execution_count": null,
      "outputs": []
    },
    {
      "cell_type": "markdown",
      "metadata": {
        "id": "YO5130oJIMQZ"
      },
      "source": [
        "### Creating testset and trainset"
      ]
    },
    {
      "cell_type": "markdown",
      "metadata": {
        "id": "eV4E4i-uIzPV"
      },
      "source": [
        "\n",
        "\n",
        "*   batch_size\n",
        "\n",
        "\n",
        "> For huge datasets batch_size is required. We cannot train the entire dataset because of the memory limitations. Usually 8-64 . Second reason is , we need the data to be generalised . \n",
        "\n",
        "*  shuffle\n",
        "\n",
        "\n",
        "> It's used to shuffle the inputs. It helps to generalise the data\n",
        "\n",
        "\n",
        "\n"
      ]
    },
    {
      "cell_type": "code",
      "metadata": {
        "id": "IrhnCn-NH4Yy"
      },
      "source": [
        "trainset = torch.utils.data.DataLoader(train,batch_size =10,shuffle =True)\n",
        "testset = torch.utils.data.DataLoader(test,batch_size =10,shuffle =True)"
      ],
      "execution_count": null,
      "outputs": []
    },
    {
      "cell_type": "markdown",
      "metadata": {
        "id": "14KcvKf_N9nA"
      },
      "source": [
        "### Image in dataset"
      ]
    },
    {
      "cell_type": "code",
      "metadata": {
        "id": "dDCVcvrSOFUi"
      },
      "source": [
        "#import matplotlib to view images\n",
        "import matplotlib.pyplot as plt"
      ],
      "execution_count": null,
      "outputs": []
    },
    {
      "cell_type": "code",
      "metadata": {
        "id": "8yPebA_UHPaB"
      },
      "source": [
        "#first input and value of from trainset\n",
        "#x is the input image , y is the value \n",
        "for data in trainset:\n",
        "  break\n",
        "x,y = data[0][0],data[1][0]"
      ],
      "execution_count": null,
      "outputs": []
    },
    {
      "cell_type": "markdown",
      "metadata": {
        "id": "Jwh_f8bwObxs"
      },
      "source": [
        "* x is a 3D tensor . We need to reshape the tensor to display \n",
        "* plt.imshow(x) doesnt work because of the 3D Tensor\n",
        "* For this reason, we need to reshape x\n",
        "\n"
      ]
    },
    {
      "cell_type": "code",
      "metadata": {
        "id": "LoiS5NXNHgGB",
        "outputId": "24cb7af3-ea6b-4e05-efb5-855d182cc892",
        "colab": {
          "base_uri": "https://localhost:8080/"
        }
      },
      "source": [
        "x.shape"
      ],
      "execution_count": null,
      "outputs": [
        {
          "output_type": "execute_result",
          "data": {
            "text/plain": [
              "torch.Size([1, 28, 28])"
            ]
          },
          "metadata": {
            "tags": []
          },
          "execution_count": 37
        }
      ]
    },
    {
      "cell_type": "code",
      "metadata": {
        "id": "il-HYv2_NbXC",
        "outputId": "0c0580cb-2a27-424c-b605-b25737493f6b",
        "colab": {
          "base_uri": "https://localhost:8080/",
          "height": 282
        }
      },
      "source": [
        "plt.imshow(x.view([28,28]))"
      ],
      "execution_count": null,
      "outputs": [
        {
          "output_type": "execute_result",
          "data": {
            "text/plain": [
              "<matplotlib.image.AxesImage at 0x7f1a2dbb7518>"
            ]
          },
          "metadata": {
            "tags": []
          },
          "execution_count": 38
        },
        {
          "output_type": "display_data",
          "data": {
            "image/png": "[encoded data removed]",
            "text/plain": [
              "<Figure size 432x288 with 1 Axes>"
            ]
          },
          "metadata": {
            "tags": [],
            "needs_background": "light"
          }
        }
      ]
    },
    {
      "cell_type": "markdown",
      "metadata": {
        "id": "OOpgfPbRQsAs"
      },
      "source": [
        "### Check if the dataset is balanced"
      ]
    },
    {
      "cell_type": "code",
      "metadata": {
        "id": "D7xgE44aQrWW"
      },
      "source": [
        "total = 0\n",
        "counter = dict()\n",
        "\n",
        "for data in trainset:\n",
        "  _,y = data\n",
        "  for out in y:\n",
        "    if counter.get(int(out),None) is None:\n",
        "      counter[int(out)] = 1\n",
        "    else:\n",
        "      counter[int(out)]+=1\n",
        "    total += 1"
      ],
      "execution_count": null,
      "outputs": []
    },
    {
      "cell_type": "markdown",
      "metadata": {
        "id": "acpODBteSGhb"
      },
      "source": [
        "Percentage of each inputs"
      ]
    },
    {
      "cell_type": "code",
      "metadata": {
        "id": "WDrGeQCgRKjD",
        "outputId": "e04c29c7-3b65-4734-ddaa-0f79469926b1",
        "colab": {
          "base_uri": "https://localhost:8080/"
        }
      },
      "source": [
        "for i in counter:\n",
        "  print(f\"{i}:{(counter[i]/total)*100}\")"
      ],
      "execution_count": null,
      "outputs": [
        {
          "output_type": "stream",
          "text": [
            "7:10.441666666666666\n",
            "8:9.751666666666667\n",
            "9:9.915000000000001\n",
            "6:9.863333333333333\n",
            "4:9.736666666666666\n",
            "0:9.871666666666666\n",
            "1:11.236666666666666\n",
            "3:10.218333333333334\n",
            "5:9.035\n",
            "2:9.93\n"
          ],
          "name": "stdout"
        }
      ]
    },
    {
      "cell_type": "code",
      "metadata": {
        "id": "Y0W9eQAejTJv"
      },
      "source": [
        ""
      ],
      "execution_count": null,
      "outputs": []
    }
  ]
}