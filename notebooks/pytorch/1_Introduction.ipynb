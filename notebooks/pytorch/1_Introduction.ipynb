{
  "nbformat": 4,
  "nbformat_minor": 0,
  "metadata": {
    "colab": {
      "name": "1.Introduction.ipynb",
      "provenance": [],
      "toc_visible": true
    },
    "kernelspec": {
      "name": "python3",
      "display_name": "Python 3"
    }
  },
  "cells": [
    {
      "cell_type": "markdown",
      "metadata": {
        "id": "-v6u_aHyAr5M"
      },
      "source": [
        "# Introduction"
      ]
    },
    {
      "cell_type": "code",
      "metadata": {
        "id": "DarS29k9A0Ks"
      },
      "source": [
        "#import pytorch\n",
        "import torch"
      ],
      "execution_count": null,
      "outputs": []
    },
    {
      "cell_type": "markdown",
      "metadata": {
        "id": "qVr7Csf2BBVy"
      },
      "source": [
        "### Tensor Example"
      ]
    },
    {
      "cell_type": "markdown",
      "metadata": {
        "id": "n3SMYzgYBQeA"
      },
      "source": [
        "Tensor is basically a multi-dimensional array. Pytorch supports running operations in GPU (Nvidia)"
      ]
    },
    {
      "cell_type": "code",
      "metadata": {
        "id": "WtQjZNPEA_Y5",
        "outputId": "dd80f0d3-e063-430d-a04b-417bb3f01591",
        "colab": {
          "base_uri": "https://localhost:8080/"
        }
      },
      "source": [
        "x = torch.Tensor([1,2])\n",
        "y = torch.Tensor([2,4])\n",
        "\n",
        "print(x*y)"
      ],
      "execution_count": null,
      "outputs": [
        {
          "output_type": "stream",
          "text": [
            "tensor([2., 8.])\n"
          ],
          "name": "stdout"
        }
      ]
    },
    {
      "cell_type": "markdown",
      "metadata": {
        "id": "Hfs-lrJtBfvc"
      },
      "source": [
        "### Zeros Example"
      ]
    },
    {
      "cell_type": "markdown",
      "metadata": {
        "id": "mfBGVIaEBwbo"
      },
      "source": [
        "2 * 5 array initialized with zeros"
      ]
    },
    {
      "cell_type": "code",
      "metadata": {
        "id": "7zgJxejnBO6L",
        "outputId": "96c154e8-5adc-4433-b344-8e7f66f6a39a",
        "colab": {
          "base_uri": "https://localhost:8080/"
        }
      },
      "source": [
        "z = torch.zeros([3,6])\n",
        "print(z)"
      ],
      "execution_count": null,
      "outputs": [
        {
          "output_type": "stream",
          "text": [
            "tensor([[0., 0., 0., 0., 0., 0.],\n",
            "        [0., 0., 0., 0., 0., 0.],\n",
            "        [0., 0., 0., 0., 0., 0.]])\n"
          ],
          "name": "stdout"
        }
      ]
    },
    {
      "cell_type": "markdown",
      "metadata": {
        "id": "iK4yxio_CC4v"
      },
      "source": [
        "### To get the array shape"
      ]
    },
    {
      "cell_type": "markdown",
      "metadata": {
        "id": "b026qkXnCPhO"
      },
      "source": [
        "Prints the dimension of the array"
      ]
    },
    {
      "cell_type": "code",
      "metadata": {
        "id": "lV4z-P5hBfQv",
        "outputId": "68d6e6c7-447c-46af-cc7c-356b3fbc7a6b",
        "colab": {
          "base_uri": "https://localhost:8080/"
        }
      },
      "source": [
        "z.shape"
      ],
      "execution_count": null,
      "outputs": [
        {
          "output_type": "execute_result",
          "data": {
            "text/plain": [
              "torch.Size([3, 6])"
            ]
          },
          "metadata": {
            "tags": []
          },
          "execution_count": 9
        }
      ]
    },
    {
      "cell_type": "markdown",
      "metadata": {
        "id": "A73ZeviVCWio"
      },
      "source": [
        "### Random Initialization of the array"
      ]
    },
    {
      "cell_type": "markdown",
      "metadata": {
        "id": "GdSmf0rxC9rx"
      },
      "source": [
        "Initialize array(Tensor) with random numbers"
      ]
    },
    {
      "cell_type": "code",
      "metadata": {
        "id": "-JxyrTvVCNyK",
        "outputId": "26d1021a-5397-4d06-ee71-fa8211dcfa58",
        "colab": {
          "base_uri": "https://localhost:8080/"
        }
      },
      "source": [
        "a = torch.rand([3,6])\n",
        "print(a)"
      ],
      "execution_count": null,
      "outputs": [
        {
          "output_type": "stream",
          "text": [
            "tensor([[0.5471, 0.2800, 0.9700, 0.1266, 0.2974, 0.9210],\n",
            "        [0.2196, 0.9911, 0.9365, 0.5811, 0.2127, 0.2177],\n",
            "        [0.2956, 0.9812, 0.4596, 0.9118, 0.2254, 0.8442]])\n"
          ],
          "name": "stdout"
        }
      ]
    },
    {
      "cell_type": "markdown",
      "metadata": {
        "id": "w6fVuyOzDGBT"
      },
      "source": [
        "### Reshaping a tensor"
      ]
    },
    {
      "cell_type": "markdown",
      "metadata": {
        "id": "YozJs-nwD3Oa"
      },
      "source": [
        "We can flatten a 3*6 Tensor by passing [1,18] to view function "
      ]
    },
    {
      "cell_type": "markdown",
      "metadata": {
        "id": "2Jsjp-l6DOab"
      },
      "source": [
        "Sometimes we might have to perform flatten operation on pixels.For this, we can use the view function"
      ]
    },
    {
      "cell_type": "code",
      "metadata": {
        "id": "X8rUCLGiC4e3",
        "outputId": "29cb85e2-9a15-4424-a2df-4c76bf554b45",
        "colab": {
          "base_uri": "https://localhost:8080/"
        }
      },
      "source": [
        "a = a.view([1,18])\n",
        "print(a)"
      ],
      "execution_count": null,
      "outputs": [
        {
          "output_type": "stream",
          "text": [
            "tensor([[0.5471, 0.2800, 0.9700, 0.1266, 0.2974, 0.9210, 0.2196, 0.9911, 0.9365,\n",
            "         0.5811, 0.2127, 0.2177, 0.2956, 0.9812, 0.4596, 0.9118, 0.2254, 0.8442]])\n"
          ],
          "name": "stdout"
        }
      ]
    }
  ]
}